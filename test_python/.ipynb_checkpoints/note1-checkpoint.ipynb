{
 "cells": [
  {
   "cell_type": "code",
   "execution_count": 1,
   "id": "initial_id",
   "metadata": {
    "collapsed": true,
    "ExecuteTime": {
     "end_time": "2024-03-31T20:48:58.035668Z",
     "start_time": "2024-03-31T20:48:53.706747Z"
    }
   },
   "outputs": [
    {
     "name": "stdout",
     "output_type": "stream",
     "text": [
      "La suma de 1.0 + 2.0 es: 3.0\n"
     ]
    }
   ],
   "source": [
    "# Solicitamos al usuario que introduzca el primer número\n",
    "numero1 = float(input(\"Introduce el primer número: \"))\n",
    "\n",
    "# Solicitamos al usuario que introduzca el segundo número\n",
    "numero2 = float(input(\"Introduce el segundo número: \"))\n",
    "\n",
    "# Realizamos la suma\n",
    "suma = numero1 + numero2\n",
    "\n",
    "# Imprimimos el resultado\n",
    "print(\"La suma de\", numero1, \"+\", numero2, \"es:\", suma)\n"
   ]
  },
  {
   "cell_type": "code",
   "outputs": [],
   "source": [],
   "metadata": {
    "collapsed": false
   },
   "id": "63116e0443cc9623"
  }
 ],
 "metadata": {
  "kernelspec": {
   "display_name": "Python 3",
   "language": "python",
   "name": "python3"
  },
  "language_info": {
   "codemirror_mode": {
    "name": "ipython",
    "version": 2
   },
   "file_extension": ".py",
   "mimetype": "text/x-python",
   "name": "python",
   "nbconvert_exporter": "python",
   "pygments_lexer": "ipython2",
   "version": "2.7.6"
  }
 },
 "nbformat": 4,
 "nbformat_minor": 5
}
